{
  "nbformat": 4,
  "nbformat_minor": 0,
  "metadata": {
    "colab": {
      "provenance": []
    },
    "kernelspec": {
      "name": "python3",
      "display_name": "Python 3"
    },
    "language_info": {
      "name": "python"
    }
  },
  "cells": [
    {
      "cell_type": "code",
      "execution_count": 8,
      "metadata": {
        "colab": {
          "base_uri": "https://localhost:8080/"
        },
        "id": "TD9SJ-rGd0Rf",
        "outputId": "ee98774c-5b87-408d-9980-c4a9150c179a"
      },
      "outputs": [
        {
          "output_type": "stream",
          "name": "stdout",
          "text": [
            "121.0円\n"
          ]
        }
      ],
      "source": [
        "def add_price_tax(price, tax):\n",
        "    total = price + price * (tax/100)\n",
        "    print(f\"{total}円\")\n",
        "add_price_tax(110, 10)"
      ]
    }
  ]
}