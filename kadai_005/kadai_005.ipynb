{
  "nbformat": 4,
  "nbformat_minor": 0,
  "metadata": {
    "colab": {
      "provenance": []
    },
    "kernelspec": {
      "name": "python3",
      "display_name": "Python 3"
    },
    "language_info": {
      "name": "python"
    }
  },
  "cells": [
    {
      "cell_type": "code",
      "execution_count": 1,
      "metadata": {
        "colab": {
          "base_uri": "https://localhost:8080/"
        },
        "id": "ip6l9dClLAws",
        "outputId": "49eebf57-aa37-444d-f06d-dae3b4e1826a"
      },
      "outputs": [
        {
          "output_type": "stream",
          "name": "stdout",
          "text": [
            "75.0cm²\n"
          ]
        }
      ],
      "source": [
        "jyouhen=10\n",
        "teihen=20\n",
        "tkasa=5\n",
        "daikei_mennseki=(jyouhen+teihen)*tkasa/2\n",
        "\n",
        "print(str(daikei_mennseki)+'cm²')\n"
      ]
    }
  ]
}