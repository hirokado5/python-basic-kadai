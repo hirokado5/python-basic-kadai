{
  "nbformat": 4,
  "nbformat_minor": 0,
  "metadata": {
    "colab": {
      "provenance": []
    },
    "kernelspec": {
      "name": "python3",
      "display_name": "Python 3"
    },
    "language_info": {
      "name": "python"
    }
  },
  "cells": [
    {
      "cell_type": "code",
      "execution_count": 14,
      "metadata": {
        "colab": {
          "base_uri": "https://localhost:8080/"
        },
        "id": "ip6l9dClLAws",
        "outputId": "de3bcae3-0fbf-4050-8b47-326317ffc8aa"
      },
      "outputs": [
        {
          "output_type": "stream",
          "name": "stdout",
          "text": [
            "75.0㎠\n"
          ]
        }
      ],
      "source": [
        "jyouhen=10\n",
        "teihen=20\n",
        "tkasa=5\n",
        "daikei_mennseki=(jyouhen+teihen)*tkasa/2\n",
        "heihousenti=\"㎠\"\n",
        "print(str(daikei_mennseki)+'㎠')\n"
      ]
    }
  ]
}