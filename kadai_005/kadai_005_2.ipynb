{
  "nbformat": 4,
  "nbformat_minor": 0,
  "metadata": {
    "colab": {
      "provenance": []
    },
    "kernelspec": {
      "name": "python3",
      "display_name": "Python 3"
    },
    "language_info": {
      "name": "python"
    }
  },
  "cells": [
    {
      "cell_type": "code",
      "execution_count": 1,
      "metadata": {
        "colab": {
          "base_uri": "https://localhost:8080/"
        },
        "id": "ip6l9dClLAws",
        "outputId": "301a1765-d3d9-4d80-c549-fefc71e25ef6"
      },
      "outputs": [
        {
          "output_type": "stream",
          "name": "stdout",
          "text": [
            "75.0㎠\n"
          ]
        }
      ],
      "source": [
        "上辺=10\n",
        "底辺=20\n",
        "高さ=5\n",
        "台形の面積=(上辺+底辺)*高さ/2\n",
        "print(f\"{台形の面積}㎠\")"
      ]
    }
  ]
}