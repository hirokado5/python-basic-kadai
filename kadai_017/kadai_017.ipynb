{
  "nbformat": 4,
  "nbformat_minor": 0,
  "metadata": {
    "colab": {
      "provenance": []
    },
    "kernelspec": {
      "name": "python3",
      "display_name": "Python 3"
    },
    "language_info": {
      "name": "python"
    }
  },
  "cells": [
    {
      "cell_type": "code",
      "execution_count": 29,
      "metadata": {
        "colab": {
          "base_uri": "https://localhost:8080/"
        },
        "id": "yCBvF2B3ewSQ",
        "outputId": "9eb87bcb-61f8-4a15-929e-4488343eb320"
      },
      "outputs": [
        {
          "output_type": "stream",
          "name": "stdout",
          "text": [
            "田中は大人ではありません\n",
            "山田は大人ではありません\n",
            "小川は大人です\n",
            "近藤は大人です\n"
          ]
        }
      ],
      "source": [
        "class Human:\n",
        "    def __init__(self):\n",
        "        self.name = \"\"\n",
        "        self.age = \"\"\n",
        "    def set(self, name, age):\n",
        "        self.name = name\n",
        "        self.age = age\n",
        "\n",
        "    def check_adult(self):\n",
        "        if self.age >= 20:\n",
        "         print(f\"{self.name}は大人です\")\n",
        "        else:\n",
        "         print(f\"{self.name}は大人ではありません\")\n",
        "\n",
        "\n",
        "human = Human()\n",
        "name_age = {\"田中\": 19, \"山田\": 12, \"小川\": 21, \"近藤\": 32}\n",
        "for key in name_age.keys():\n",
        "  human.set(key,name_age[key])\n",
        "  human.check_adult()\n"
      ]
    }
  ]
}