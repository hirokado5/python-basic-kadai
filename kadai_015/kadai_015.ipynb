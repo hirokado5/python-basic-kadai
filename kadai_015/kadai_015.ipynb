{
  "nbformat": 4,
  "nbformat_minor": 0,
  "metadata": {
    "colab": {
      "provenance": []
    },
    "kernelspec": {
      "name": "python3",
      "display_name": "Python 3"
    },
    "language_info": {
      "name": "python"
    }
  },
  "cells": [
    {
      "cell_type": "code",
      "execution_count": 3,
      "metadata": {
        "colab": {
          "base_uri": "https://localhost:8080/"
        },
        "id": "pFsdbAuWCMMD",
        "outputId": "25f5939f-d2f6-4d1f-a81c-5ffdede28689"
      },
      "outputs": [
        {
          "output_type": "stream",
          "name": "stdout",
          "text": [
            "田中\n",
            "21\n"
          ]
        }
      ],
      "source": [
        "class Human:\n",
        "    def __init__(self):\n",
        "        self.name =\"\"\n",
        "        self.age =\"\"\n",
        "    def set_name(self, name, age):\n",
        "        self.name = name\n",
        "        self.age = age\n",
        "\n",
        "    def printinfo(self):\n",
        "        print(self.name)\n",
        "        print(self.age)\n",
        "\n",
        "Human = Human()\n",
        "\n",
        "Human.set_name(\"田中\",21)\n",
        "Human.printinfo()\n",
        "\n",
        "\n"
      ]
    }
  ]
}